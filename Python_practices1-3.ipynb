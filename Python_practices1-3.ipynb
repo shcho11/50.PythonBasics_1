{
  "nbformat": 4,
  "nbformat_minor": 0,
  "metadata": {
    "colab": {
      "name": "Python_practices1-3.ipynb",
      "provenance": [],
      "collapsed_sections": [],
      "authorship_tag": "ABX9TyMHsl5jhVNja9fXl+fHtH4U",
      "include_colab_link": true
    },
    "kernelspec": {
      "name": "python3",
      "display_name": "Python 3"
    },
    "language_info": {
      "name": "python"
    }
  },
  "cells": [
    {
      "cell_type": "markdown",
      "metadata": {
        "id": "view-in-github",
        "colab_type": "text"
      },
      "source": [
        "<a href=\"https://colab.research.google.com/github/shcho11/Python_practices1/blob/main/Python_practices1-3.ipynb\" target=\"_parent\"><img src=\"https://colab.research.google.com/assets/colab-badge.svg\" alt=\"Open In Colab\"/></a>"
      ]
    },
    {
      "cell_type": "markdown",
      "metadata": {
        "id": "Ka741qKacqmz"
      },
      "source": [
        "Python Practices 1-3 반복문"
      ]
    },
    {
      "cell_type": "markdown",
      "metadata": {
        "id": "zveXA4xHczlX"
      },
      "source": [
        "practice #11 for반복문"
      ]
    },
    {
      "cell_type": "code",
      "metadata": {
        "colab": {
          "base_uri": "https://localhost:8080/"
        },
        "id": "wYR-bKbWcpNN",
        "outputId": "48432d78-0d7c-471c-a9a8-1fe83234f7e4"
      },
      "source": [
        "str = 'Korea'\n",
        "for i in str:\n",
        "    print(i)"
      ],
      "execution_count": 1,
      "outputs": [
        {
          "output_type": "stream",
          "text": [
            "K\n",
            "o\n",
            "r\n",
            "e\n",
            "a\n"
          ],
          "name": "stdout"
        }
      ]
    },
    {
      "cell_type": "code",
      "metadata": {
        "colab": {
          "base_uri": "https://localhost:8080/"
        },
        "id": "S5Sd2D9Hc_7k",
        "outputId": "ab42e37a-db9c-478c-80ec-5d473a3a0079"
      },
      "source": [
        "#리스트 기반의 반복문 사용\n",
        "str = 'Korea'\n",
        "for i in [2,'a',3,4,5]:\n",
        "    print(str)"
      ],
      "execution_count": 2,
      "outputs": [
        {
          "output_type": "stream",
          "text": [
            "Korea\n",
            "Korea\n",
            "Korea\n",
            "Korea\n",
            "Korea\n"
          ],
          "name": "stdout"
        }
      ]
    },
    {
      "cell_type": "code",
      "metadata": {
        "colab": {
          "base_uri": "https://localhost:8080/"
        },
        "id": "fAx5MHqGdFh8",
        "outputId": "23fab68a-86ce-451e-d8c0-7528d6251572"
      },
      "source": [
        "str = '*'\n",
        "for i in [1,2,3,4,5]:\n",
        "    print(str * i)"
      ],
      "execution_count": 3,
      "outputs": [
        {
          "output_type": "stream",
          "text": [
            "*\n",
            "**\n",
            "***\n",
            "****\n",
            "*****\n"
          ],
          "name": "stdout"
        }
      ]
    },
    {
      "cell_type": "code",
      "metadata": {
        "id": "maU81d_pdI2D"
      },
      "source": [
        "# * 100개 출력\n",
        "str = '*'\n",
        "for i in range(100):\n",
        "    print(str)"
      ],
      "execution_count": null,
      "outputs": []
    },
    {
      "cell_type": "code",
      "metadata": {
        "colab": {
          "base_uri": "https://localhost:8080/"
        },
        "id": "8QqV1i91dVoV",
        "outputId": "5ff5b340-f854-40ac-8214-7562dca3ed72"
      },
      "source": [
        "#range기반의 반복문\n",
        "#1부터 100까지 수 중에 홀수의 합 구하기\n",
        "sum = 0\n",
        "for i in range(1,101,2):\n",
        "    sum += i\n",
        "print(sum)"
      ],
      "execution_count": 6,
      "outputs": [
        {
          "output_type": "stream",
          "text": [
            "2500\n"
          ],
          "name": "stdout"
        }
      ]
    },
    {
      "cell_type": "code",
      "metadata": {
        "colab": {
          "base_uri": "https://localhost:8080/"
        },
        "id": "2G6V-SItdgcK",
        "outputId": "10890423-4a4f-4665-e46e-4cb4eb3efc43"
      },
      "source": [
        "#구구단 2단 출력\n",
        "for i in range(1,10):\n",
        "    print('2 * %d = %2d' %(i,i*2))"
      ],
      "execution_count": 7,
      "outputs": [
        {
          "output_type": "stream",
          "text": [
            "2 * 1 =  2\n",
            "2 * 2 =  4\n",
            "2 * 3 =  6\n",
            "2 * 4 =  8\n",
            "2 * 5 = 10\n",
            "2 * 6 = 12\n",
            "2 * 7 = 14\n",
            "2 * 8 = 16\n",
            "2 * 9 = 18\n"
          ],
          "name": "stdout"
        }
      ]
    },
    {
      "cell_type": "code",
      "metadata": {
        "colab": {
          "base_uri": "https://localhost:8080/"
        },
        "id": "I-N0ikfQdnJT",
        "outputId": "1a4db306-8e61-47ca-a0e7-ad13f60e7346"
      },
      "source": [
        "#9단을 거꾸로 출력하기\n",
        "for i in range(9,0,-1):\n",
        "    print('9 * %d = %d' %(i,i*9))"
      ],
      "execution_count": 8,
      "outputs": [
        {
          "output_type": "stream",
          "text": [
            "9 * 9 = 81\n",
            "9 * 8 = 72\n",
            "9 * 7 = 63\n",
            "9 * 6 = 54\n",
            "9 * 5 = 45\n",
            "9 * 4 = 36\n",
            "9 * 3 = 27\n",
            "9 * 2 = 18\n",
            "9 * 1 = 9\n"
          ],
          "name": "stdout"
        }
      ]
    },
    {
      "cell_type": "code",
      "metadata": {
        "colab": {
          "base_uri": "https://localhost:8080/"
        },
        "id": "B376XFicdpdV",
        "outputId": "95bbe85b-3074-4fc4-ec43-bd86ea273f53"
      },
      "source": [
        "#구구단 전체 출력\n",
        "for i in range(2,10):\n",
        "    for j in range(1,10):\n",
        "        print('%d * %d = %2d' %(i,j,i*j))"
      ],
      "execution_count": 9,
      "outputs": [
        {
          "output_type": "stream",
          "text": [
            "2 * 1 =  2\n",
            "2 * 2 =  4\n",
            "2 * 3 =  6\n",
            "2 * 4 =  8\n",
            "2 * 5 = 10\n",
            "2 * 6 = 12\n",
            "2 * 7 = 14\n",
            "2 * 8 = 16\n",
            "2 * 9 = 18\n",
            "3 * 1 =  3\n",
            "3 * 2 =  6\n",
            "3 * 3 =  9\n",
            "3 * 4 = 12\n",
            "3 * 5 = 15\n",
            "3 * 6 = 18\n",
            "3 * 7 = 21\n",
            "3 * 8 = 24\n",
            "3 * 9 = 27\n",
            "4 * 1 =  4\n",
            "4 * 2 =  8\n",
            "4 * 3 = 12\n",
            "4 * 4 = 16\n",
            "4 * 5 = 20\n",
            "4 * 6 = 24\n",
            "4 * 7 = 28\n",
            "4 * 8 = 32\n",
            "4 * 9 = 36\n",
            "5 * 1 =  5\n",
            "5 * 2 = 10\n",
            "5 * 3 = 15\n",
            "5 * 4 = 20\n",
            "5 * 5 = 25\n",
            "5 * 6 = 30\n",
            "5 * 7 = 35\n",
            "5 * 8 = 40\n",
            "5 * 9 = 45\n",
            "6 * 1 =  6\n",
            "6 * 2 = 12\n",
            "6 * 3 = 18\n",
            "6 * 4 = 24\n",
            "6 * 5 = 30\n",
            "6 * 6 = 36\n",
            "6 * 7 = 42\n",
            "6 * 8 = 48\n",
            "6 * 9 = 54\n",
            "7 * 1 =  7\n",
            "7 * 2 = 14\n",
            "7 * 3 = 21\n",
            "7 * 4 = 28\n",
            "7 * 5 = 35\n",
            "7 * 6 = 42\n",
            "7 * 7 = 49\n",
            "7 * 8 = 56\n",
            "7 * 9 = 63\n",
            "8 * 1 =  8\n",
            "8 * 2 = 16\n",
            "8 * 3 = 24\n",
            "8 * 4 = 32\n",
            "8 * 5 = 40\n",
            "8 * 6 = 48\n",
            "8 * 7 = 56\n",
            "8 * 8 = 64\n",
            "8 * 9 = 72\n",
            "9 * 1 =  9\n",
            "9 * 2 = 18\n",
            "9 * 3 = 27\n",
            "9 * 4 = 36\n",
            "9 * 5 = 45\n",
            "9 * 6 = 54\n",
            "9 * 7 = 63\n",
            "9 * 8 = 72\n",
            "9 * 9 = 81\n"
          ],
          "name": "stdout"
        }
      ]
    },
    {
      "cell_type": "code",
      "metadata": {
        "colab": {
          "base_uri": "https://localhost:8080/"
        },
        "id": "GiKTdHLtdw2b",
        "outputId": "20b139c8-50f1-4ad3-aa90-a70d0366503e"
      },
      "source": [
        "#인풋한 구구단 출력\n",
        "a = int(input(\"출력할 단을 입력하세요: \"))\n",
        "for i in range(1,10):\n",
        "    print('%d * %d = %3d' %(a,i,a*i))\n",
        "for i in range(9,0,-1):\n",
        "    print('%d * %d = %3d' %(a,i,a*i))"
      ],
      "execution_count": 10,
      "outputs": [
        {
          "output_type": "stream",
          "text": [
            "출력할 단을 입력하세요: 3\n",
            "3 * 1 =   3\n",
            "3 * 2 =   6\n",
            "3 * 3 =   9\n",
            "3 * 4 =  12\n",
            "3 * 5 =  15\n",
            "3 * 6 =  18\n",
            "3 * 7 =  21\n",
            "3 * 8 =  24\n",
            "3 * 9 =  27\n",
            "3 * 9 =  27\n",
            "3 * 8 =  24\n",
            "3 * 7 =  21\n",
            "3 * 6 =  18\n",
            "3 * 5 =  15\n",
            "3 * 4 =  12\n",
            "3 * 3 =   9\n",
            "3 * 2 =   6\n",
            "3 * 1 =   3\n"
          ],
          "name": "stdout"
        }
      ]
    },
    {
      "cell_type": "code",
      "metadata": {
        "colab": {
          "base_uri": "https://localhost:8080/"
        },
        "id": "6IPnHkjUeozL",
        "outputId": "49dd6545-1e3e-494d-c058-b44b87366d1e"
      },
      "source": [
        "#else문\n",
        "for i in range(5):\n",
        "    print(i)\n",
        "else:\n",
        "    print(\"반복문이 완료되었군요\")"
      ],
      "execution_count": 17,
      "outputs": [
        {
          "output_type": "stream",
          "text": [
            "0\n",
            "1\n",
            "2\n",
            "3\n",
            "4\n",
            "반복문이 완료되었군요\n"
          ],
          "name": "stdout"
        }
      ]
    },
    {
      "cell_type": "code",
      "metadata": {
        "colab": {
          "base_uri": "https://localhost:8080/"
        },
        "id": "zHlLyxaVetyo",
        "outputId": "0e4ebc4b-d8df-4d2e-c2f2-e0acaac2a95e"
      },
      "source": [
        "for i in range(5):\n",
        "    if i >= 4:\n",
        "        break\n",
        "    else:\n",
        "        print(i)\n",
        "else:\n",
        "    print(\"반복문이 완료되었군요\")"
      ],
      "execution_count": 18,
      "outputs": [
        {
          "output_type": "stream",
          "text": [
            "0\n",
            "1\n",
            "2\n",
            "3\n"
          ],
          "name": "stdout"
        }
      ]
    },
    {
      "cell_type": "markdown",
      "metadata": {
        "id": "Sx9Takydd4iE"
      },
      "source": [
        "practice #12 While반복문"
      ]
    },
    {
      "cell_type": "code",
      "metadata": {
        "colab": {
          "base_uri": "https://localhost:8080/"
        },
        "id": "z0x4uFMWd7SV",
        "outputId": "c9ab49c7-059c-4411-e676-7dea0729e39c"
      },
      "source": [
        "cnt = 0\n",
        "while cnt<10:\n",
        "    print(cnt)\n",
        "    cnt += 1"
      ],
      "execution_count": 11,
      "outputs": [
        {
          "output_type": "stream",
          "text": [
            "0\n",
            "1\n",
            "2\n",
            "3\n",
            "4\n",
            "5\n",
            "6\n",
            "7\n",
            "8\n",
            "9\n"
          ],
          "name": "stdout"
        }
      ]
    },
    {
      "cell_type": "code",
      "metadata": {
        "colab": {
          "base_uri": "https://localhost:8080/"
        },
        "id": "8vJYnqVPeJ4u",
        "outputId": "81a2a0a0-f9ab-407f-dd40-3eb68359f235"
      },
      "source": [
        "#1부터 10까지 합을 계산\n",
        "sum = 0\n",
        "num = 1\n",
        "while num <= 10:\n",
        "    sum += num\n",
        "    num += 1\n",
        "print('Sum : ', sum)"
      ],
      "execution_count": 12,
      "outputs": [
        {
          "output_type": "stream",
          "text": [
            "Sum :  55\n"
          ],
          "name": "stdout"
        }
      ]
    },
    {
      "cell_type": "code",
      "metadata": {
        "colab": {
          "base_uri": "https://localhost:8080/"
        },
        "id": "Z5r3VKkReO-X",
        "outputId": "ec4463db-c090-43ac-e3c4-79046ae1be01"
      },
      "source": [
        "#break문 적용 1\n",
        "for i in [1,2,3,4,5]:\n",
        "    if i == 5: break\n",
        "    print(i)"
      ],
      "execution_count": 16,
      "outputs": [
        {
          "output_type": "stream",
          "text": [
            "1\n",
            "2\n",
            "3\n",
            "4\n"
          ],
          "name": "stdout"
        }
      ]
    },
    {
      "cell_type": "code",
      "metadata": {
        "colab": {
          "base_uri": "https://localhost:8080/"
        },
        "id": "WFvN4vOueeva",
        "outputId": "9ce91521-0467-4aa2-8747-400fbc3e82dd"
      },
      "source": [
        "#break문 적용 2\n",
        "i = 1\n",
        "while i <= 5:\n",
        "    if i == 5: break\n",
        "    print(i)\n",
        "    i += 1"
      ],
      "execution_count": 15,
      "outputs": [
        {
          "output_type": "stream",
          "text": [
            "1\n",
            "2\n",
            "3\n",
            "4\n"
          ],
          "name": "stdout"
        }
      ]
    }
  ]
}