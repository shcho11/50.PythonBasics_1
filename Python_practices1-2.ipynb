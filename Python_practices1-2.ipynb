{
  "nbformat": 4,
  "nbformat_minor": 0,
  "metadata": {
    "colab": {
      "name": "Python_practices1-2.ipynb",
      "provenance": [],
      "collapsed_sections": [],
      "authorship_tag": "ABX9TyOZa6oxmfRWWfStrHF4AX7+",
      "include_colab_link": true
    },
    "kernelspec": {
      "name": "python3",
      "display_name": "Python 3"
    },
    "language_info": {
      "name": "python"
    }
  },
  "cells": [
    {
      "cell_type": "markdown",
      "metadata": {
        "id": "view-in-github",
        "colab_type": "text"
      },
      "source": [
        "<a href=\"https://colab.research.google.com/github/shcho11/Python_practices1/blob/main/Python_practices1-2.ipynb\" target=\"_parent\"><img src=\"https://colab.research.google.com/assets/colab-badge.svg\" alt=\"Open In Colab\"/></a>"
      ]
    },
    {
      "cell_type": "markdown",
      "metadata": {
        "id": "COuYIBAtYpNk"
      },
      "source": [
        "Practices 1-2 : 리스트, 튜플, 딕셔너리"
      ]
    },
    {
      "cell_type": "markdown",
      "metadata": {
        "id": "lJPvSEXZZSuM"
      },
      "source": [
        "practice #8 리스트"
      ]
    },
    {
      "cell_type": "code",
      "metadata": {
        "colab": {
          "base_uri": "https://localhost:8080/"
        },
        "id": "rIujU5rOYarn",
        "outputId": "cb33d9ae-dc00-4b36-bcdc-68fcc325ba4c"
      },
      "source": [
        "#리스트생성, 값변경\n",
        "def under_bar():\n",
        "    print('_'*15)\n",
        "\n",
        "under_bar()\n",
        "list1 = [1, 2, 3, 4, 5]\n",
        "list2 = ['a', 'b', 'c']\n",
        "list3 = [1, 'a', 'abc', [1, 2, 3, 4, 5],['a', 'b', 'c']]\n",
        "list1[0] = 6\n",
        "print(list1)\n",
        "list4 = [1, 2, under_bar]\n",
        "list4[2]()\n",
        "print(list3[3][1])"
      ],
      "execution_count": 1,
      "outputs": [
        {
          "output_type": "stream",
          "text": [
            "_______________\n",
            "[6, 2, 3, 4, 5]\n",
            "_______________\n",
            "2\n"
          ],
          "name": "stdout"
        }
      ]
    },
    {
      "cell_type": "code",
      "metadata": {
        "colab": {
          "base_uri": "https://localhost:8080/"
        },
        "id": "t_2hYNRsZ7ST",
        "outputId": "9b328137-6e27-44c0-f0d0-bd91a0fba228"
      },
      "source": [
        "#슬라이싱(Slicing)\n",
        "cities = ['서울', '부산', '인천', '대구', '대전', '광주', '울산', '수원']\n",
        "print(cities)\n",
        "print(cities[0:6])\n",
        "print(cities[6:])\n",
        "print(cities[-8:])\n",
        "print(cities[-8:2])"
      ],
      "execution_count": 2,
      "outputs": [
        {
          "output_type": "stream",
          "text": [
            "['서울', '부산', '인천', '대구', '대전', '광주', '울산', '수원']\n",
            "['서울', '부산', '인천', '대구', '대전', '광주']\n",
            "['울산', '수원']\n",
            "['서울', '부산', '인천', '대구', '대전', '광주', '울산', '수원']\n",
            "['서울', '부산']\n"
          ],
          "name": "stdout"
        }
      ]
    },
    {
      "cell_type": "code",
      "metadata": {
        "colab": {
          "base_uri": "https://localhost:8080/"
        },
        "id": "9HQ5mrZwZ_xE",
        "outputId": "90c785b1-bdb0-4715-e0d7-956c494b5b5f"
      },
      "source": [
        "#슬라이싱에서 범위선택시: 1)콜론을 넣으면 모든값 반환 2) 시작-마지막인덱스는 자동 지정\n",
        "city = 'seoul'\n",
        "print(city)\n",
        "print(city[:])\n",
        "print(city[-10:10])"
      ],
      "execution_count": 4,
      "outputs": [
        {
          "output_type": "stream",
          "text": [
            "seoul\n",
            "seoul\n",
            "seoul\n"
          ],
          "name": "stdout"
        }
      ]
    },
    {
      "cell_type": "code",
      "metadata": {
        "colab": {
          "base_uri": "https://localhost:8080/"
        },
        "id": "WPXPOd5XaRiE",
        "outputId": "793af321-6e2d-4cbd-de34-ac1e0e487dba"
      },
      "source": [
        "city = 'seoul'\n",
        "cities = ['서울', '부산', '인천', '대구', '대전', '광주', '울산', '수원']\n",
        "print(city)\n",
        "print(city[0::2])\n",
        "print(city[::-1])\n",
        "print(cities)\n",
        "print(cities[0:6:3])\n",
        "print(cities[::-1])"
      ],
      "execution_count": 5,
      "outputs": [
        {
          "output_type": "stream",
          "text": [
            "seoul\n",
            "sol\n",
            "luoes\n",
            "['서울', '부산', '인천', '대구', '대전', '광주', '울산', '수원']\n",
            "['서울', '대구']\n",
            "['수원', '울산', '광주', '대전', '대구', '인천', '부산', '서울']\n"
          ],
          "name": "stdout"
        }
      ]
    },
    {
      "cell_type": "code",
      "metadata": {
        "colab": {
          "base_uri": "https://localhost:8080/"
        },
        "id": "nQN2vQJ_aTPj",
        "outputId": "ae3aba86-9187-4a43-9c3b-7e95b6f99583"
      },
      "source": [
        "#리스트의 연산 (덧셈)\n",
        "cities1 = ['서울', '김포', '부산']\n",
        "cities2 = ['인천', '대구', '대전', '광주']\n",
        "print(cities1 + cities2)\n",
        "korean_cities = cities1 + cities2\n",
        "print(korean_cities)"
      ],
      "execution_count": 6,
      "outputs": [
        {
          "output_type": "stream",
          "text": [
            "['서울', '김포', '부산', '인천', '대구', '대전', '광주']\n",
            "['서울', '김포', '부산', '인천', '대구', '대전', '광주']\n"
          ],
          "name": "stdout"
        }
      ]
    },
    {
      "cell_type": "code",
      "metadata": {
        "colab": {
          "base_uri": "https://localhost:8080/"
        },
        "id": "Mgh-2ereagla",
        "outputId": "49e8a57e-9e35-4623-ca12-903e9d1af3fc"
      },
      "source": [
        "#리스트의 연산 (곱셈)\n",
        "cities = ['서울', '김포', '부산']\n",
        "print(cities * 2)\n",
        "korean_cities = cities * 2\n",
        "print(korean_cities)\n",
        "print('김포' in korean_cities)"
      ],
      "execution_count": 7,
      "outputs": [
        {
          "output_type": "stream",
          "text": [
            "['서울', '김포', '부산', '서울', '김포', '부산']\n",
            "['서울', '김포', '부산', '서울', '김포', '부산']\n",
            "True\n"
          ],
          "name": "stdout"
        }
      ]
    },
    {
      "cell_type": "markdown",
      "metadata": {
        "id": "tcp6xMyhaqrj"
      },
      "source": [
        "■리스트의 추가 및 삭제함수 <br>\n",
        "append() 새로운 값을 추가 <br>\n",
        "extend() 새로운 리스트를 추가 (덧셈효과) <br>\n",
        "insert() 지정한 인덱스에 추가 (추가로 인한 밀림현상 발생) <br>\n",
        "remove() 특정값을 찾아서 제거 <br>\n",
        "del() 인덱스값으로 삭제"
      ]
    },
    {
      "cell_type": "code",
      "metadata": {
        "colab": {
          "base_uri": "https://localhost:8080/"
        },
        "id": "zFQBAHnkaz9g",
        "outputId": "3cbb92ba-4c66-4aa1-caa8-44f4a1aca940"
      },
      "source": [
        "#리스트추가함수: append\n",
        "city = 'korea'\n",
        "cities = ['서울', '부산', '인천', '대구', '대전']\n",
        "cities[4] = '일산'\n",
        "print(cities)\n",
        "city += '  university'\n",
        "cities.append('김포')\n",
        "print(cities)\n",
        "print(city)"
      ],
      "execution_count": 8,
      "outputs": [
        {
          "output_type": "stream",
          "text": [
            "['서울', '부산', '인천', '대구', '일산']\n",
            "['서울', '부산', '인천', '대구', '일산', '김포']\n",
            "korea  university\n"
          ],
          "name": "stdout"
        }
      ]
    },
    {
      "cell_type": "code",
      "metadata": {
        "colab": {
          "base_uri": "https://localhost:8080/"
        },
        "id": "lr0tzYTfa7cs",
        "outputId": "5dc68695-0392-4723-d2d8-5c376d7cfc97"
      },
      "source": [
        "#extend() 함수\n",
        "cities = ['서울', '부산', '인천', '대구', '대전']\n",
        "cities = cities + ['고양', '일산']\n",
        "print(cities)\n",
        "cities = cities + ['고양']\n",
        "print(cities)\n",
        "cities.extend(['독도'])\n",
        "print(cities)\n",
        "cities.extend(['대한민국'])\n",
        "print(cities)"
      ],
      "execution_count": 9,
      "outputs": [
        {
          "output_type": "stream",
          "text": [
            "['서울', '부산', '인천', '대구', '대전', '고양', '일산']\n",
            "['서울', '부산', '인천', '대구', '대전', '고양', '일산', '고양']\n",
            "['서울', '부산', '인천', '대구', '대전', '고양', '일산', '고양', '독도']\n",
            "['서울', '부산', '인천', '대구', '대전', '고양', '일산', '고양', '독도', '대한민국']\n"
          ],
          "name": "stdout"
        }
      ]
    },
    {
      "cell_type": "code",
      "metadata": {
        "colab": {
          "base_uri": "https://localhost:8080/"
        },
        "id": "rkEMdDIla_i2",
        "outputId": "d273220c-2bc7-466e-97e2-a1fd3b8a051d"
      },
      "source": [
        "#insert()함수, remove()함수\n",
        "cities = ['서울', '부산', '인천', '대구', '대전']\n",
        "print(cities)\n",
        "cities.insert(1,'김포')\n",
        "cities.insert(8,'광주') #인덱스최대값 초과해도 맨 뒤로 출력\n",
        "print(cities)\n",
        "cities.remove('인천')\n",
        "print(cities)\n",
        "del cities[0] #인덱스번호로도 삭제 가능\n",
        "print(cities)"
      ],
      "execution_count": 10,
      "outputs": [
        {
          "output_type": "stream",
          "text": [
            "['서울', '부산', '인천', '대구', '대전']\n",
            "['서울', '김포', '부산', '인천', '대구', '대전', '광주']\n",
            "['서울', '김포', '부산', '대구', '대전', '광주']\n",
            "['김포', '부산', '대구', '대전', '광주']\n"
          ],
          "name": "stdout"
        }
      ]
    },
    {
      "cell_type": "code",
      "metadata": {
        "colab": {
          "base_uri": "https://localhost:8080/"
        },
        "id": "bL-AQaSnbEYl",
        "outputId": "7e2fdcbb-fa38-470b-ac79-b7bbd4f25716"
      },
      "source": [
        "#다중 리스트 구성\n",
        "kor_score = [56,67,78]\n",
        "eng_score = [43,54,65]\n",
        "total = [kor_score, eng_score]\n",
        "print(kor_score)\n",
        "print(eng_score)\n",
        "print(total)\n",
        "print(total[0][2])"
      ],
      "execution_count": 11,
      "outputs": [
        {
          "output_type": "stream",
          "text": [
            "[56, 67, 78]\n",
            "[43, 54, 65]\n",
            "[[56, 67, 78], [43, 54, 65]]\n",
            "78\n"
          ],
          "name": "stdout"
        }
      ]
    },
    {
      "cell_type": "markdown",
      "metadata": {
        "id": "SyzMNTShbOpB"
      },
      "source": [
        "practice #9 튜플"
      ]
    },
    {
      "cell_type": "code",
      "metadata": {
        "colab": {
          "base_uri": "https://localhost:8080/"
        },
        "id": "ka98c0c_bUfq",
        "outputId": "c7c3369f-0928-4c92-969c-1df3390f79e3"
      },
      "source": [
        "#데이터 변경 불가, 소괄호 () 사용, 리스트에서 사용하는 연산,인덱싱,슬라이싱 동일\n",
        "kor_score = (56,67,78)\n",
        "eng_score = (43,54,65)\n",
        "total = (kor_score, eng_score)\n",
        "print(kor_score)\n",
        "print(eng_score)\n",
        "print(total)\n",
        "print(total[0][2])"
      ],
      "execution_count": 12,
      "outputs": [
        {
          "output_type": "stream",
          "text": [
            "(56, 67, 78)\n",
            "(43, 54, 65)\n",
            "((56, 67, 78), (43, 54, 65))\n",
            "78\n"
          ],
          "name": "stdout"
        }
      ]
    },
    {
      "cell_type": "markdown",
      "metadata": {
        "id": "8uOvCH8xbhmQ"
      },
      "source": [
        "practice #10 딕셔너리"
      ]
    },
    {
      "cell_type": "code",
      "metadata": {
        "colab": {
          "base_uri": "https://localhost:8080/"
        },
        "id": "Qh0HArtYbmHt",
        "outputId": "cf9ed3cf-d4db-4ccc-c7dc-955bc40a7a23"
      },
      "source": [
        "#key(키)와 value(값)으로 데이터를 저장하는 구조\n",
        "#중괄호 {} 사용\n",
        "#딕셔너리 변수 = {키1:값1, 키2:값2, 키3값3, ...)\n",
        "\n",
        "cellphone_info = {'양세형':'010-1111-2222',\n",
        "                  '양세찬':'010-2222-3333',\n",
        "                  '이승기':'010-3333-4444'}\n",
        "print(cellphone_info['양세찬'])\n",
        "cellphone_info['양세찬'] = '010-4444-5555'\n",
        "print(cellphone_info['양세찬'])\n",
        "print(cellphone_info.values()) #값만 확인\n",
        "print(cellphone_info.keys()) #키만 확인\n",
        "print(cellphone_info.items()) # 키-값쌍 모두 확인\n",
        "print('유재석' in cellphone_info.keys())"
      ],
      "execution_count": 13,
      "outputs": [
        {
          "output_type": "stream",
          "text": [
            "010-2222-3333\n",
            "010-4444-5555\n",
            "dict_values(['010-1111-2222', '010-4444-5555', '010-3333-4444'])\n",
            "dict_keys(['양세형', '양세찬', '이승기'])\n",
            "dict_items([('양세형', '010-1111-2222'), ('양세찬', '010-4444-5555'), ('이승기', '010-3333-4444')])\n",
            "False\n"
          ],
          "name": "stdout"
        }
      ]
    }
  ]
}