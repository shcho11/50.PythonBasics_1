{
  "nbformat": 4,
  "nbformat_minor": 0,
  "metadata": {
    "colab": {
      "name": "Untitled3.ipynb",
      "provenance": [],
      "collapsed_sections": [],
      "authorship_tag": "ABX9TyMAVQdi4jeyLRvJTwpHuLh3",
      "include_colab_link": true
    },
    "kernelspec": {
      "name": "python3",
      "display_name": "Python 3"
    },
    "language_info": {
      "name": "python"
    }
  },
  "cells": [
    {
      "cell_type": "markdown",
      "metadata": {
        "id": "view-in-github",
        "colab_type": "text"
      },
      "source": [
        "<a href=\"https://colab.research.google.com/github/shcho11/Python_practices1/blob/main/Python_practices1-1.ipynb\" target=\"_parent\"><img src=\"https://colab.research.google.com/assets/colab-badge.svg\" alt=\"Open In Colab\"/></a>"
      ]
    },
    {
      "cell_type": "markdown",
      "metadata": {
        "id": "VB2apU8xKCyF"
      },
      "source": [
        "practice #1 각종 연산"
      ]
    },
    {
      "cell_type": "code",
      "metadata": {
        "colab": {
          "base_uri": "https://localhost:8080/"
        },
        "id": "MXjT83d_JhpD",
        "outputId": "880a7d78-7eae-4a27-ef70-639084fb9644"
      },
      "source": [
        "# 작은 따옴표는 큰 따옴표로, 큰 따옴표는 작은 따옴표로 둘러쌀 수 있다.\n",
        "print('\"I\\'m your energy\"') # 문자열내에 따옴표가 섞여있으면 \\(backslash) 추가\n",
        "A = 22\n",
        "B = 21\n",
        "print(A+B)\n",
        "# 사칙연산\n",
        "print(10+7)\n",
        "print(10-7)\n",
        "print(10*7)\n",
        "print(10/7)\n",
        "print(10%7)\n",
        "# 기타\n",
        "a, b, c = 10, 20, 30\n",
        "print(a)\n",
        "print(b)\n",
        "print(c)\n",
        "a, b, c = c, b, a\n",
        "print(a, b, c)\n",
        "# 선언\n",
        "a = 10\n",
        "print(a)\n",
        "a = a + 5\n",
        "print(a)\n",
        "PI = 3.14\n",
        "radius = 5\n",
        "print(PI * radius * radius)"
      ],
      "execution_count": 22,
      "outputs": [
        {
          "output_type": "stream",
          "text": [
            "\"I'm your energy\"\n",
            "43\n",
            "17\n",
            "3\n",
            "70\n",
            "1.4285714285714286\n",
            "3\n",
            "10\n",
            "20\n",
            "30\n",
            "30 20 10\n",
            "10\n",
            "15\n",
            "78.5\n"
          ],
          "name": "stdout"
        }
      ]
    },
    {
      "cell_type": "markdown",
      "metadata": {
        "id": "DtGt-a2JR573"
      },
      "source": [
        "float( ): 정수또는문자 -> 실수형으로 변환\n",
        "str( ): 정수또는실수 -> 문자형으로 변환\n",
        "\n",
        "a+=b 의미: a=a+b\n",
        "a-=b 의미: a=a-b\n",
        "a*=b 의미: a=a*b\n",
        "a/=b 의미: a=a/b\n",
        "a%=b 의미: a=a%b"
      ]
    },
    {
      "cell_type": "markdown",
      "metadata": {
        "id": "hxZOvCMQKaJN"
      },
      "source": [
        "practice #2 인풋 연습"
      ]
    },
    {
      "cell_type": "code",
      "metadata": {
        "colab": {
          "base_uri": "https://localhost:8080/"
        },
        "id": "ahTYE-MyKAY_",
        "outputId": "6741ed8c-d297-4969-f0f8-34e9a867d638"
      },
      "source": [
        "# 인풋 연습 1\n",
        "name = input(\"이름을 입력하세요 >>\")\n",
        "age = input(\"나이를 입력하세요 >>\")\n",
        "print(\"당신의 이름은 \", name,\"이고, 나이는 \", age,\"살 입니다\")"
      ],
      "execution_count": 15,
      "outputs": [
        {
          "output_type": "stream",
          "text": [
            "이름을 입력하세요 >>송현\n",
            "나이를 입력하세요 >>34\n",
            "당신의 이름은  송현 이고, 나이는  34 살 입니다\n"
          ],
          "name": "stdout"
        }
      ]
    },
    {
      "cell_type": "code",
      "metadata": {
        "colab": {
          "base_uri": "https://localhost:8080/"
        },
        "id": "AmrAr5qiMIn9",
        "outputId": "2a5e2307-1c3d-45f4-f4f0-8ed30f015e28"
      },
      "source": [
        "# 인풋 연습 2\n",
        "age = int(input(\"나이를 입력하세요 >>\"))\n",
        "print(\"당신은 10년 뒤\", age + 10, \"살 입니다\")"
      ],
      "execution_count": 17,
      "outputs": [
        {
          "output_type": "stream",
          "text": [
            "나이를 입력하세요 >>34\n",
            "당신은 10년 뒤 44 살 입니다\n"
          ],
          "name": "stdout"
        }
      ]
    },
    {
      "cell_type": "code",
      "metadata": {
        "colab": {
          "base_uri": "https://localhost:8080/"
        },
        "id": "yXMETE7PRgU_",
        "outputId": "dbbd87eb-d67c-44f3-cb6c-6e34e28f09a8"
      },
      "source": [
        "name = input(\"이름을 입력하시오: \")\n",
        "age = int(input(\"나이를 입력하시오: \"))\n",
        "print(name,\"\\b님의 나이는 \",int(age-5),\"\\b살 처럼 보입니다\")"
      ],
      "execution_count": 43,
      "outputs": [
        {
          "output_type": "stream",
          "text": [
            "이름을 입력하시오: 송현\n",
            "나이를 입력하시오: 34\n",
            "송현 \b님의 나이는  29 \b살 처럼 보입니다\n"
          ],
          "name": "stdout"
        }
      ]
    },
    {
      "cell_type": "code",
      "metadata": {
        "colab": {
          "base_uri": "https://localhost:8080/"
        },
        "id": "k4bFbM5XUT_g",
        "outputId": "fbf4b236-3d5f-4992-d5b7-52056d5c5c8f"
      },
      "source": [
        "F = int(input(\"화씨 온도를 입력하시오>> \"))\n",
        "C = (F-32)*5/9\n",
        "print(\"섭씨 온도는 %.1f입니다\"%C)"
      ],
      "execution_count": 56,
      "outputs": [
        {
          "output_type": "stream",
          "text": [
            "화씨 온도를 입력하시오>> 70\n",
            "섭씨 온도는 21.1입니다\n"
          ],
          "name": "stdout"
        }
      ]
    },
    {
      "cell_type": "markdown",
      "metadata": {
        "id": "PbTTZlu-LIDO"
      },
      "source": [
        "practice #3 문자 출력"
      ]
    },
    {
      "cell_type": "code",
      "metadata": {
        "colab": {
          "base_uri": "https://localhost:8080/"
        },
        "id": "NI6cOR05KFAk",
        "outputId": "570d3ef1-b29e-4ae1-c907-11c1e2121f58"
      },
      "source": [
        "print('고려')\n",
        "print('대학교')\n",
        "print('고려'+'대학교')\n",
        "title = 'Korea' + 'University'\n",
        "print(title)\n",
        "title += '\\t모두의'\n",
        "print(title)\n",
        "title += input('하고 싶은 말은?')\n",
        "print(title)"
      ],
      "execution_count": 26,
      "outputs": [
        {
          "output_type": "stream",
          "text": [
            "고려\n",
            "대학교\n",
            "고려대학교\n",
            "KoreaUniversity\n",
            "KoreaUniversity\t모두의\n",
            "하고 싶은 말은?파이썬\n",
            "KoreaUniversity\t모두의파이썬\n"
          ],
          "name": "stdout"
        }
      ]
    },
    {
      "cell_type": "code",
      "metadata": {
        "colab": {
          "base_uri": "https://localhost:8080/"
        },
        "id": "XG3oGAqjPvok",
        "outputId": "d91e6d84-71c0-4d34-e5b4-1da0764f14fd"
      },
      "source": [
        "print('*' * 12)\n",
        "print('고려대학교')\n",
        "print('*' * 12)"
      ],
      "execution_count": 33,
      "outputs": [
        {
          "output_type": "stream",
          "text": [
            "************\n",
            "고려대학교\n",
            "************\n"
          ],
          "name": "stdout"
        }
      ]
    },
    {
      "cell_type": "code",
      "metadata": {
        "colab": {
          "base_uri": "https://localhost:8080/"
        },
        "id": "hdY1jCwpQD_T",
        "outputId": "810ff405-7b42-4323-d486-7e5acb78cf40"
      },
      "source": [
        "deco = '+-' * 5\n",
        "print(deco)\n",
        "print('모두를 위한 '+'파이썬 프로그래밍')\n",
        "deco *= 3\n",
        "print(deco)"
      ],
      "execution_count": 34,
      "outputs": [
        {
          "output_type": "stream",
          "text": [
            "+-+-+-+-+-\n",
            "모두를 위한 파이썬 프로그래밍\n",
            "+-+-+-+-+-+-+-+-+-+-+-+-+-+-+-\n"
          ],
          "name": "stdout"
        }
      ]
    },
    {
      "cell_type": "markdown",
      "metadata": {
        "id": "22muqG9uSPKJ"
      },
      "source": [
        "practice #4 문자열"
      ]
    },
    {
      "cell_type": "code",
      "metadata": {
        "colab": {
          "base_uri": "https://localhost:8080/"
        },
        "id": "m6S1Qq-bSLZx",
        "outputId": "1a4fc443-7376-43e9-9a71-476dff670327"
      },
      "source": [
        "#String Formatting\n",
        "#1) 문자열 내 문자열 대입\n",
        "name = input(\"이름을 입력하시오: \")\n",
        "print('당신의 이름은 %s입니다' %name)\n",
        "\n",
        "#2) 문자열 내 숫자 대입\n",
        "age = int(input(\"나이를 입력하시오: \"))\n",
        "print('나이는 %d살 입니다' %age)\n",
        "\n",
        "#3) 문자열 내 2개 이상의 정보 대입\n",
        "name = input(\"이름을 입력하시오: \")\n",
        "age = int(input(\"나이를 입력하시오: \"))\n",
        "print('이름은 %s이고 나이는 %d살 입니다' %(name,age))"
      ],
      "execution_count": 44,
      "outputs": [
        {
          "output_type": "stream",
          "text": [
            "이름을 입력하시오: 송현\n",
            "당신의 이름은 송현입니다\n",
            "나이를 입력하시오: 34\n",
            "나이는 34살 입니다\n",
            "이름을 입력하시오: 송현\n",
            "나이를 입력하시오: 34\n",
            "이름은 송현이고 나이는 34살 입니다\n"
          ],
          "name": "stdout"
        }
      ]
    },
    {
      "cell_type": "markdown",
      "metadata": {
        "id": "64-uDzwISmir"
      },
      "source": [
        "변수의 자료형에 따른 서식\n",
        "%s : 문자열(string)\n",
        "%c: 문자 1개(character)\n",
        "%d: 정수(integer)\n",
        "%f: 실수형(floating-point)\n",
        "%o: 8진수\n",
        "%x: 16진수\n",
        "%%: 문자 %자체 "
      ]
    },
    {
      "cell_type": "code",
      "metadata": {
        "colab": {
          "base_uri": "https://localhost:8080/"
        },
        "id": "Ng0P8uifSwhf",
        "outputId": "982639ae-a637-4e9c-b103-8f5814a9f69b"
      },
      "source": [
        "#문자열의 정렬\n",
        "#%[폭]s\n",
        "#예) %10s (10칸의 폭에서 우측정렬)\n",
        "#예) %-10s (10칸의 폭에서 좌측정렬)\n",
        "\n",
        "print('%10s' %'Korea')\n",
        "print('%-10s' %'University')"
      ],
      "execution_count": 45,
      "outputs": [
        {
          "output_type": "stream",
          "text": [
            "     Korea\n",
            "University\n"
          ],
          "name": "stdout"
        }
      ]
    },
    {
      "cell_type": "code",
      "metadata": {
        "colab": {
          "base_uri": "https://localhost:8080/"
        },
        "id": "6vwkOx5qS4jG",
        "outputId": "35909e69-b747-415a-d517-48ad93f398dd"
      },
      "source": [
        "#정수의 정렬\n",
        "print('%5d'%2020)\n",
        "print('%-5d'%2020)"
      ],
      "execution_count": 46,
      "outputs": [
        {
          "output_type": "stream",
          "text": [
            " 2020\n",
            "2020 \n"
          ],
          "name": "stdout"
        }
      ]
    },
    {
      "cell_type": "code",
      "metadata": {
        "colab": {
          "base_uri": "https://localhost:8080/"
        },
        "id": "nUXL6DmSS92i",
        "outputId": "75a7c8ae-28f6-48af-8246-7218da910a97"
      },
      "source": [
        "#실수의 정렬\n",
        "print('%10.2f' %2020.0123)\n",
        "print('%-10.3f' %2020.9876)"
      ],
      "execution_count": 47,
      "outputs": [
        {
          "output_type": "stream",
          "text": [
            "   2020.01\n",
            "2020.988  \n"
          ],
          "name": "stdout"
        }
      ]
    },
    {
      "cell_type": "code",
      "metadata": {
        "id": "qlBfchQ2TFZZ"
      },
      "source": [
        "#데이터 분리하기\n",
        "student = str(input(\"학번을 입력하세요>> \"))\n",
        "print('입학년도: ','%8s'%student[0:4])\n",
        "print('학생번호: ','%-8s'%student[4:])"
      ],
      "execution_count": null,
      "outputs": []
    },
    {
      "cell_type": "markdown",
      "metadata": {
        "id": "umOb9yL-QN-3"
      },
      "source": [
        "practice #5 인덱싱(indexing)"
      ]
    },
    {
      "cell_type": "code",
      "metadata": {
        "id": "AaltQKQ_UPAZ"
      },
      "source": [
        ""
      ],
      "execution_count": null,
      "outputs": []
    },
    {
      "cell_type": "code",
      "metadata": {
        "colab": {
          "base_uri": "https://localhost:8080/"
        },
        "id": "_RT2gT0aQWs6",
        "outputId": "ac46ddfd-a876-409c-f5f3-b263689999dc"
      },
      "source": [
        "#문자열 인덱스 번호체계\n",
        "str = \"Programming\"\n",
        "print(str[0], str[10])\n",
        "print(str[-11], str[-1])\n",
        "\n",
        "#문자열에서 특정 문자 추출\n",
        "str = \"Programming\"\n",
        "print(str[0] + str[1] + str[2] + str[3])\n",
        "print(str[0:4])\n",
        "print(str[4:10])"
      ],
      "execution_count": 37,
      "outputs": [
        {
          "output_type": "stream",
          "text": [
            "P g\n",
            "P g\n",
            "Prog\n",
            "Prog\n",
            "rammin\n"
          ],
          "name": "stdout"
        }
      ]
    },
    {
      "cell_type": "markdown",
      "metadata": {
        "id": "WoknHSoCQ3iS"
      },
      "source": [
        "문자열: 특수문자 기능 (escape)\n",
        "\"It's OK\"\n",
        "a = '\"It's OK\"' (X)\n",
        "a = '\"It\\'s OK\"' (O)\n",
        "\n",
        "파이썬의 특수문자기능 사용\n",
        "\\[enter] 다음줄과 연속임을 표현\n",
        "\\ 문자자체\n",
        "\\e esc키\n",
        "\\b 백스페이스\n",
        "\\n 줄바꾸기\n",
        "\\t 탭 키"
      ]
    },
    {
      "cell_type": "code",
      "metadata": {
        "colab": {
          "base_uri": "https://localhost:8080/"
        },
        "id": "l5cCiqnkQ9UZ",
        "outputId": "daad21e5-7900-4e4f-f793-a540ef785416"
      },
      "source": [
        "korea = \"나는 자랑스런 태극기 앞에 \\n 조국과 민족의 무궁한 영광을 위하여 몸과 마음을 \\n 바쳐 충성을 다할 것을 굳게 다짐합니다.\"\n",
        "print(korea)"
      ],
      "execution_count": 38,
      "outputs": [
        {
          "output_type": "stream",
          "text": [
            "나는 자랑스런 태극기 앞에 \n",
            " 조국과 민족의 무궁한 영광을 위하여 몸과 마음을 \n",
            " 바쳐 충성을 다할 것을 굳게 다짐합니다.\n"
          ],
          "name": "stdout"
        }
      ]
    },
    {
      "cell_type": "markdown",
      "metadata": {
        "id": "ZeYoDZppUiyo"
      },
      "source": [
        "practice #6 관계연산자"
      ]
    },
    {
      "cell_type": "code",
      "metadata": {
        "colab": {
          "base_uri": "https://localhost:8080/"
        },
        "id": "_2NPzK7YUnrF",
        "outputId": "33f6f738-1a30-4ea5-d2de-9ca8c27165fe"
      },
      "source": [
        "A, B = 10, 20\n",
        "print(A==B)\n",
        "print(A!=B)\n",
        "print(A>B)\n",
        "print(A<B)\n",
        "print(A>=B)\n",
        "print(A<=B)\n",
        "print(A+5<B-5)"
      ],
      "execution_count": 57,
      "outputs": [
        {
          "output_type": "stream",
          "text": [
            "False\n",
            "True\n",
            "False\n",
            "True\n",
            "False\n",
            "True\n",
            "False\n"
          ],
          "name": "stdout"
        }
      ]
    },
    {
      "cell_type": "code",
      "metadata": {
        "colab": {
          "base_uri": "https://localhost:8080/"
        },
        "id": "f2-qSSnYU3mM",
        "outputId": "5a765a58-52db-403e-fcc0-1ac74e4d868f"
      },
      "source": [
        "#논리곱 1\n",
        "A = int(input(\"수를 입력하세요: \"))\n",
        "result = A > 10 and A <= 50 # 파이썬에서10<A<=50 이라고 써도 된다\n",
        "print(result) "
      ],
      "execution_count": 59,
      "outputs": [
        {
          "output_type": "stream",
          "text": [
            "수를 입력하세요: 9\n",
            "False\n"
          ],
          "name": "stdout"
        }
      ]
    },
    {
      "cell_type": "code",
      "metadata": {
        "colab": {
          "base_uri": "https://localhost:8080/"
        },
        "id": "wkzz56SgVA1Z",
        "outputId": "2deaf7e8-b815-4ce4-ccb1-74d0d4b1df51"
      },
      "source": [
        "#논리곱 2\n",
        "A = int(input(\"수를 입력하세요: \"))\n",
        "result = not A #0을 넣을 때만 True 출력된다. (0자체가 False이므로 not A에 의해 True 출력)\n",
        "print(result)"
      ],
      "execution_count": 62,
      "outputs": [
        {
          "output_type": "stream",
          "text": [
            "수를 입력하세요: 0\n",
            "True\n"
          ],
          "name": "stdout"
        }
      ]
    },
    {
      "cell_type": "code",
      "metadata": {
        "colab": {
          "base_uri": "https://localhost:8080/"
        },
        "id": "lWz1TW2AVKnj",
        "outputId": "9f5fd0b3-b9db-4519-c856-a8cb206b9ed3"
      },
      "source": [
        "A = int(input())\n",
        "print(\",\")\n",
        "B = int(input())\n",
        "result = (A >= 0) and (A <=50) and (B >=0) and (B <= 50)\n",
        "print(result)"
      ],
      "execution_count": 63,
      "outputs": [
        {
          "output_type": "stream",
          "text": [
            "10\n",
            ",\n",
            "30\n",
            "True\n"
          ],
          "name": "stdout"
        }
      ]
    },
    {
      "cell_type": "markdown",
      "metadata": {
        "id": "Yvv_Mg-xVYsN"
      },
      "source": [
        "practice #7 조건문 if"
      ]
    },
    {
      "cell_type": "code",
      "metadata": {
        "colab": {
          "base_uri": "https://localhost:8080/"
        },
        "id": "0HNL6adFVR1x",
        "outputId": "a4c7146d-3f99-4ad3-9be4-7fcae75b5f93"
      },
      "source": [
        "print(\"\"\"\n",
        "*-*-*-*-*-*-*-*-\n",
        "WELCOME TO HONGDAE CLUB\n",
        "*-*-*-*-*-*-*-*-\n",
        "\"\"\")\n",
        "age = int(input(\"How old are you? \"))\n",
        "if age < 30:\n",
        "    print(\"Welcome here!\")\n",
        "if age >= 30:\n",
        "    print(\"Sorry, you cannot come in\")"
      ],
      "execution_count": 66,
      "outputs": [
        {
          "output_type": "stream",
          "text": [
            "\n",
            "*-*-*-*-*-*-*-*-\n",
            "WELCOME TO HONGDAE CLUB\n",
            "*-*-*-*-*-*-*-*-\n",
            "\n",
            "How old are you? 30\n",
            "Sorry, you cannot come in\n"
          ],
          "name": "stdout"
        }
      ]
    },
    {
      "cell_type": "code",
      "metadata": {
        "colab": {
          "base_uri": "https://localhost:8080/"
        },
        "id": "Rm1pNbP0WXbz",
        "outputId": "e02f6fd7-c843-4f52-956f-4a85ea2f16f5"
      },
      "source": [
        "a = int(input(\"성적을 입력하세요 : \"))\n",
        "if 90 <= a <= 100:\n",
        "    print('A')\n",
        "if 80 <= a <= 89:\n",
        "    print('B')\n",
        "if 70 <= a <= 79:\n",
        "    print('C')\n",
        "if 60 <= a <= 69:\n",
        "    print('D')\n",
        "if a <= 59:\n",
        "    print('F')"
      ],
      "execution_count": 67,
      "outputs": [
        {
          "output_type": "stream",
          "text": [
            "성적을 입력하세요 : 80\n",
            "B\n"
          ],
          "name": "stdout"
        }
      ]
    },
    {
      "cell_type": "code",
      "metadata": {
        "colab": {
          "base_uri": "https://localhost:8080/"
        },
        "id": "Cih7h9JaWcXb",
        "outputId": "7f8a46ba-69cb-48d3-ca46-d331283f332e"
      },
      "source": [
        "a = int(input(\"Please input any number : \"))\n",
        "if a%2 == 0:\n",
        "    print(\"짝수입니다\")\n",
        "if a%2 == 1:\n",
        "    print(\"홀수입니다\")"
      ],
      "execution_count": 68,
      "outputs": [
        {
          "output_type": "stream",
          "text": [
            "Please input any number : 15\n",
            "홀수입니다\n"
          ],
          "name": "stdout"
        }
      ]
    },
    {
      "cell_type": "code",
      "metadata": {
        "colab": {
          "base_uri": "https://localhost:8080/"
        },
        "id": "csPv8WU8WixF",
        "outputId": "6e274911-eb61-4b85-e8e4-09c23cac873c"
      },
      "source": [
        "# else를 함께 활용\n",
        "a = int(input(\"Please input any number : \"))\n",
        "if a%2 == 0:\n",
        "    print(\"짝수입니다\")\n",
        "else:\n",
        "    print(\"홀수입니다\")"
      ],
      "execution_count": 69,
      "outputs": [
        {
          "output_type": "stream",
          "text": [
            "Please input any number : 14\n",
            "짝수입니다\n"
          ],
          "name": "stdout"
        }
      ]
    },
    {
      "cell_type": "code",
      "metadata": {
        "colab": {
          "base_uri": "https://localhost:8080/"
        },
        "id": "ZSL7c813WwH4",
        "outputId": "1d7816e8-cc13-474b-9d0b-f622a7814473"
      },
      "source": [
        "a = int(input(\"Please input any number : \"))\n",
        "print(\"짝수입니다\") if a % 2 == 0 else print(\"홀수입니다\")"
      ],
      "execution_count": 70,
      "outputs": [
        {
          "output_type": "stream",
          "text": [
            "Please input any number : 24\n",
            "짝수입니다\n"
          ],
          "name": "stdout"
        }
      ]
    },
    {
      "cell_type": "code",
      "metadata": {
        "colab": {
          "base_uri": "https://localhost:8080/"
        },
        "id": "TKm9xrjnW6rS",
        "outputId": "f3cc469f-880a-44c0-b72e-8d73a65ff6b4"
      },
      "source": [
        "#중첩된 if (elif) 활용\n",
        "score = int(input(\"점수를 입력하세요 : \"))\n",
        "if 90 <= score <= 100:\n",
        "    print('A')\n",
        "elif 80 <= score <= 89:\n",
        "    print('B')\n",
        "elif 70 <= score <= 79:\n",
        "    print('C')\n",
        "elif 60 <= score <= 69:\n",
        "    print('D')\n",
        "else:\n",
        "    print('F')"
      ],
      "execution_count": 72,
      "outputs": [
        {
          "output_type": "stream",
          "text": [
            "점수를 입력하세요 : 80\n",
            "B\n"
          ],
          "name": "stdout"
        }
      ]
    }
  ]
}